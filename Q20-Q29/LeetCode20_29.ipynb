{
  "nbformat": 4,
  "nbformat_minor": 0,
  "metadata": {
    "colab": {
      "name": "LeetCode20-29.ipynb",
      "provenance": [],
      "collapsed_sections": []
    },
    "kernelspec": {
      "name": "python3",
      "display_name": "Python 3"
    }
  },
  "cells": [
    {
      "cell_type": "markdown",
      "metadata": {
        "id": "53eT11qSl6WL",
        "colab_type": "text"
      },
      "source": [
        "## Q22  Generate Parentheses\n",
        "- Closure Number\n"
      ]
    },
    {
      "cell_type": "code",
      "metadata": {
        "id": "WRak5CCGlNe2",
        "colab_type": "code",
        "colab": {
          "base_uri": "https://localhost:8080/",
          "height": 34
        },
        "outputId": "b16b289e-9622-4645-f9e7-780f8f2c8f64"
      },
      "source": [
        "class Solution:\n",
        "    def generateParenthesis(self, n: int):\n",
        "        if n == 0: return ['']\n",
        "        ans = []\n",
        "        for i in range(n):\n",
        "            for left in self.generateParenthesis(i):\n",
        "                for right in self.generateParenthesis(n-1-i):\n",
        "                    ans.append('({}){}'.format(left, right))\n",
        "        return ans\n",
        "s = Solution()\n",
        "print(s.generateParenthesis(3))"
      ],
      "execution_count": null,
      "outputs": [
        {
          "output_type": "stream",
          "text": [
            "['()()()', '()(())', '(())()', '(()())', '((()))']\n"
          ],
          "name": "stdout"
        }
      ]
    },
    {
      "cell_type": "markdown",
      "metadata": {
        "id": "skas0t14xua_",
        "colab_type": "text"
      },
      "source": [
        "## Q22  Generate Parentheses\n",
        "- Backtracking"
      ]
    },
    {
      "cell_type": "code",
      "metadata": {
        "id": "ZoiMGYW-xr2V",
        "colab_type": "code",
        "colab": {
          "base_uri": "https://localhost:8080/",
          "height": 34
        },
        "outputId": "e4fd1fda-d92d-4489-e360-74dca10f30f9"
      },
      "source": [
        "class Solution(object):\n",
        "    def generateParenthesis(self, n: int):\n",
        "        ans = []\n",
        "        \n",
        "        def backtracking(s, left, right):\n",
        "            if len(s) == 2*n:\n",
        "                return ans.append(s)\n",
        "            if left < n:\n",
        "                backtracking(s+'(', left+1, right)\n",
        "            if right < left:\n",
        "                backtracking(s+')', left, right+1)\n",
        "        backtracking('', 0, 0)\n",
        "        return ans\n",
        "s = Solution()\n",
        "print(s.generateParenthesis(3)) "
      ],
      "execution_count": null,
      "outputs": [
        {
          "output_type": "stream",
          "text": [
            "['((()))', '(()())', '(())()', '()(())', '()()()']\n"
          ],
          "name": "stdout"
        }
      ]
    }
  ]
}